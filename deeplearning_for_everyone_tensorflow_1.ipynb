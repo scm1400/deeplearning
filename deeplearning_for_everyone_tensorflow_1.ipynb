{
 "cells": [
  {
   "cell_type": "markdown",
   "metadata": {},
   "source": [
    "# [모두를 위한 딥러닝 with TensorFlow](https://www.youtube.com/playlist?list=PLlMkM4tgfjnLSOjrEJN31gZATbcj_MpUm \"DeepLearning for everyone\")\n",
    "\n",
    "## 1. TensorFlow로 간단한 linear regression 구현"
   ]
  },
  {
   "cell_type": "code",
   "execution_count": 3,
   "metadata": {},
   "outputs": [],
   "source": [
    "import tensorflow as tf\n",
    "import numpy as np"
   ]
  },
  {
   "cell_type": "markdown",
   "metadata": {},
   "source": [
    "\\\\( H(x)=Wx+b \\\\)\n"
   ]
  },
  {
   "cell_type": "code",
   "execution_count": 4,
   "metadata": {},
   "outputs": [],
   "source": [
    "x_train = [1, 2, 3]\n",
    "y_train = [1, 2, 3]\n",
    "\n",
    "W = tf.Variable(tf.random_normal([1]), name='weight')\n",
    "b = tf.Variable(tf.random_normal([1]), name='bias')\n",
    "\n",
    "hypothesis = x_train * W + b"
   ]
  },
  {
   "cell_type": "markdown",
   "metadata": {},
   "source": [
    "\\\\( cost(W,b) = \\frac{1}{m} \\sum_{i=1}^m (H(x^i)-y^i )^2 \\\\)"
   ]
  },
  {
   "cell_type": "code",
   "execution_count": 5,
   "metadata": {},
   "outputs": [],
   "source": [
    "cost = tf.reduce_mean(tf.square(hypothesis - y_train))"
   ]
  },
  {
   "cell_type": "markdown",
   "metadata": {},
   "source": [
    "### GradientDescent"
   ]
  },
  {
   "cell_type": "code",
   "execution_count": 6,
   "metadata": {},
   "outputs": [],
   "source": [
    "# Minimize\n",
    "optimizer = tf.train.GradientDescentOptimizer(learning_rate=0.01)\n",
    "train = optimizer.minimize(cost)"
   ]
  },
  {
   "cell_type": "markdown",
   "metadata": {},
   "source": [
    "### Run/update graph and get results"
   ]
  },
  {
   "cell_type": "code",
   "execution_count": 9,
   "metadata": {},
   "outputs": [
    {
     "name": "stdout",
     "output_type": "stream",
     "text": [
      "0 16.29385 [-0.9587629] [0.21131277]\n",
      "200 0.044272766 [0.7556209] [0.5555313]\n",
      "400 0.016905501 [0.84898853] [0.34328455]\n",
      "600 0.0064553376 [0.90668416] [0.21212892]\n",
      "800 0.002464968 [0.94233644] [0.1310828]\n",
      "1000 0.00094124203 [0.96436745] [0.0810012]\n",
      "1200 0.00035941214 [0.9779812] [0.05005386]\n",
      "1400 0.00013724211 [0.9863937] [0.03093022]\n",
      "1600 5.2406773e-05 [0.9915921] [0.01911316]\n",
      "1800 2.00108e-05 [0.99480444] [0.01181076]\n",
      "2000 7.6414335e-06 [0.99678946] [0.00729832]\n"
     ]
    }
   ],
   "source": [
    "# Launch the graph in a session\n",
    "sess = tf.Session()\n",
    "# Initializes global variables in the graph\n",
    "sess.run(tf.global_variables_initializer())\n",
    "\n",
    "# Fit the line\n",
    "for step in range(2001):\n",
    "    sess.run(train)\n",
    "    if step % 200 == 0:\n",
    "        print (step, sess.run(cost), sess.run(W), sess.run(b))"
   ]
  },
  {
   "cell_type": "code",
   "execution_count": 10,
   "metadata": {},
   "outputs": [
    {
     "name": "stdout",
     "output_type": "stream",
     "text": [
      "0 7.6414335e-06 [0.9967972] [0.00728078]\n",
      "100 4.7218386e-06 [0.9974823] [0.00572334]\n",
      "200 2.9177397e-06 [0.9980208] [0.00449906]\n",
      "300 1.8030538e-06 [0.9984442] [0.00353664]\n",
      "400 1.1141765e-06 [0.998777] [0.0027802]\n",
      "500 6.886201e-07 [0.9990385] [0.00218557]\n",
      "600 4.2547336e-07 [0.9992442] [0.00171818]\n",
      "700 2.630371e-07 [0.9994057] [0.00135076]\n",
      "800 1.6260698e-07 [0.99953276] [0.00106198]\n",
      "900 1.0049018e-07 [0.9996326] [0.00083503]\n",
      "1000 6.217027e-08 [0.99971104] [0.00065673]\n",
      "1100 3.8450423e-08 [0.99977267] [0.0005165]\n",
      "1200 2.3774968e-08 [0.9998212] [0.00040622]\n",
      "1300 1.4711778e-08 [0.9998595] [0.00031959]\n",
      "1400 9.098017e-09 [0.99988943] [0.00025137]\n",
      "1500 5.635954e-09 [0.999913] [0.00019779]\n",
      "1600 3.5049321e-09 [0.9999315] [0.00015587]\n",
      "1700 2.1642375e-09 [0.9999459] [0.00012263]\n",
      "1800 1.3427931e-09 [0.9999576] [9.660145e-05]\n",
      "1900 8.3209767e-10 [0.9999665] [7.5877295e-05]\n",
      "2000 5.231679e-10 [0.99997336] [6.0173443e-05]\n"
     ]
    }
   ],
   "source": [
    "X = tf.placeholder(tf.float32)\n",
    "Y = tf.placeholder(tf.float32)\n",
    "\n",
    "for step in range(2001):\n",
    "    cost_val, W_val, b_val, _ = \\\n",
    "        sess.run([cost, W, b, train],\n",
    "                  feed_dict={X: [1, 2, 3], Y: [1, 2, 3]})\n",
    "    if step % 100 == 0:\n",
    "        print(step, cost_val, W_val, b_val)"
   ]
  },
  {
   "cell_type": "code",
   "execution_count": null,
   "metadata": {},
   "outputs": [],
   "source": []
  }
 ],
 "metadata": {
  "kernelspec": {
   "display_name": "Python 3",
   "language": "python",
   "name": "python3"
  },
  "language_info": {
   "codemirror_mode": {
    "name": "ipython",
    "version": 3
   },
   "file_extension": ".py",
   "mimetype": "text/x-python",
   "name": "python",
   "nbconvert_exporter": "python",
   "pygments_lexer": "ipython3",
   "version": "3.6.5"
  }
 },
 "nbformat": 4,
 "nbformat_minor": 2
}
